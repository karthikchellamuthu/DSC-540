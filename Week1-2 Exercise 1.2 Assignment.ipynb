{
 "cells": [
  {
   "cell_type": "code",
   "execution_count": 1,
   "id": "2c0a713f",
   "metadata": {},
   "outputs": [
    {
     "data": {
      "text/plain": [
       "'\\n1. Install the latest versions of either Docker or Anaconda. Your book Data Wrangling with Python uses Docker, however, you are welcome to use whichever distributer you feel comfortable with.\\n2. Create a Jupyter notebook where you create a list, iterate over the list and sort your results, generate random numbers, add to the list, and then print your results.\\n3. Create a line chart with Matplotlib and the following data file.\\na. Data file: world-population.xlsm\\nb. (Hint: Python for Data Analysis: Page 19-50 & Data Wrangling with Python: Preface)\\n4. Complete the following activities:\\na. Data Wrangling with Python: Activity 1 page 17\\nb. Data Wrangling with Python: Activity 2 page 31\\nc. Data Wrangling with Python: Activity 3 page 49\\nd. Data Wrangling with Python: Activity 4 page 59\\nYour exercises are due two weeks from Sunday by Midnight of Week 2. Refer to the rubric for more grading detail.\\n'"
      ]
     },
     "execution_count": 1,
     "metadata": {},
     "output_type": "execute_result"
    }
   ],
   "source": [
    "# Assignment Week1 -Exercise1.2 What is Data Wrangling\n",
    "\n",
    "''' \n",
    "Name : Karthikeyan Chellamuthu \n",
    "\n",
    "Date : 03-27-2022\n",
    "\n",
    "1. Install the latest versions of either Docker or Anaconda. Your book Data Wrangling with Python uses Docker, however, you are welcome to use whichever distributer you feel comfortable with.\n",
    "2. Create a Jupyter notebook where you create a list, iterate over the list and sort your results, generate random numbers, add to the list, and then print your results.\n",
    "3. Create a line chart with Matplotlib and the following data file.\n",
    "a. Data file: world-population.xlsm\n",
    "b. (Hint: Python for Data Analysis: Page 19-50 & Data Wrangling with Python: Preface)\n",
    "4. Complete the following activities:\n",
    "a. Data Wrangling with Python: Activity 1 page 17\n",
    "b. Data Wrangling with Python: Activity 2 page 31\n",
    "c. Data Wrangling with Python: Activity 3 page 49\n",
    "d. Data Wrangling with Python: Activity 4 page 59\n",
    "Your exercises are due two weeks from Sunday by Midnight of Week 2. Refer to the rubric for more grading detail.\n",
    "'''"
   ]
  },
  {
   "cell_type": "code",
   "execution_count": 13,
   "id": "90f9db05",
   "metadata": {},
   "outputs": [
    {
     "data": {
      "text/plain": [
       "'1. Installed the Anaconda package'"
      ]
     },
     "execution_count": 13,
     "metadata": {},
     "output_type": "execute_result"
    }
   ],
   "source": [
    "# 1. Installation \n",
    "\n",
    "'''1. Installed the Anaconda package'''"
   ]
  },
  {
   "cell_type": "code",
   "execution_count": 6,
   "id": "a365cc5d",
   "metadata": {},
   "outputs": [
    {
     "data": {
      "text/plain": [
       "'Week1-2 Exercise 1.2 Assignment\\n'"
      ]
     },
     "execution_count": 6,
     "metadata": {},
     "output_type": "execute_result"
    }
   ],
   "source": [
    "# 2. 1 Created a Jupiter notebook \n",
    "\n",
    "'''Week1-2 Exercise 1.2 Assignment\n",
    "'''"
   ]
  },
  {
   "cell_type": "code",
   "execution_count": 10,
   "id": "f547a37e",
   "metadata": {},
   "outputs": [],
   "source": [
    "#2.2 Creating a list \n",
    "\n",
    "# import pandas as pd\n",
    "\n",
    "import pandas as pd\n",
    "  \n",
    "# list of strings\n",
    "\n",
    "lst = ['Karthik', 'Kevin', 'Arun', 'John', 'Brad', 'Jordan', 'Allison','Kathy','Zou']"
   ]
  },
  {
   "cell_type": "code",
   "execution_count": 11,
   "id": "8ecc3171",
   "metadata": {},
   "outputs": [
    {
     "name": "stdout",
     "output_type": "stream",
     "text": [
      "['Allison', 'Arun', 'Brad', 'John', 'Jordan', 'Karthik', 'Kathy', 'Kevin', 'Zou']\n"
     ]
    }
   ],
   "source": [
    "# 2.3 Sort the list \n",
    "\n",
    "lst.sort()\n",
    "\n",
    "print(lst)\n"
   ]
  },
  {
   "cell_type": "code",
   "execution_count": 45,
   "id": "3c0fc6fe",
   "metadata": {},
   "outputs": [
    {
     "data": {
      "text/plain": [
       "list"
      ]
     },
     "execution_count": 45,
     "metadata": {},
     "output_type": "execute_result"
    }
   ],
   "source": [
    "type(lst)"
   ]
  },
  {
   "cell_type": "code",
   "execution_count": 15,
   "id": "bdd9e3e3",
   "metadata": {},
   "outputs": [
    {
     "name": "stdout",
     "output_type": "stream",
     "text": [
      "[61, 72, 74, 82, 82, 46, 76, 22, 91, 18, 100, 12, 89, 7, 55, 64, 45, 17, 4, 33, 82, 89, 83, 30, 46, 63, 32, 61, 20, 89, 12, 67, 66, 5, 52, 40, 27, 26, 44, 5, 88, 51, 79, 0, 87, 13, 11, 49, 78, 4, 52, 44, 19, 50, 82, 56, 64, 39, 37, 95, 4, 53, 65, 6, 86, 29, 77, 78, 10, 57, 31, 39, 84, 32, 70, 29, 10, 35, 39, 54, 35, 75, 73, 27, 91, 61, 41, 48, 91, 18, 62, 38, 37, 11, 44, 32, 5, 90, 57, 20]\n"
     ]
    }
   ],
   "source": [
    "\n",
    "# 2.3 Generate Random numbers\n",
    "\n",
    "# Create a list of 100 random numbers\n",
    "\n",
    "list_a = [random.randint(0, 100) for i in range(0, 100)]\n",
    "\n",
    "print(list_a)"
   ]
  },
  {
   "cell_type": "code",
   "execution_count": 52,
   "id": "e9a9dc0d",
   "metadata": {},
   "outputs": [
    {
     "name": "stdout",
     "output_type": "stream",
     "text": [
      "Enter the total number of elements:2\n",
      "Randomised list is:  ['Allison', 'Arun', 'Brad', 'John', 'Jordan', 'Karthik', 'Kathy', 'Kevin', 'Zou', 2, 14]\n"
     ]
    }
   ],
   "source": [
    "# List of random letters\n",
    "\n",
    "import random\n",
    "n=int(input(\"Enter the total number of elements:\"))\n",
    "for j in range(n):\n",
    "    lst.append(random.randint(1,20))\n",
    "print('Randomised list is: ',lst)"
   ]
  },
  {
   "cell_type": "code",
   "execution_count": 38,
   "id": "2886c1dd",
   "metadata": {},
   "outputs": [
    {
     "data": {
      "text/plain": [
       "'C:\\\\Users\\\\LENOVO\\\\Desktop\\\\BU\\\\DSC 540\\\\Assignments Submitted'"
      ]
     },
     "execution_count": 38,
     "metadata": {},
     "output_type": "execute_result"
    }
   ],
   "source": [
    "#3.a Create a line chart with Matplotlib\n",
    "\n",
    "#Import Libraries \n",
    "\n",
    "import matplotlib.pyplot as plt\n",
    "import pandas as pd\n",
    "import random\n",
    "from itertools import permutations, dropwhile, zip_longest\n",
    "import math\n",
    "import os\n",
    "os.getcwd()"
   ]
  },
  {
   "cell_type": "code",
   "execution_count": 24,
   "id": "a402070b",
   "metadata": {},
   "outputs": [],
   "source": [
    "#Read the world-population.xlsm data file\n",
    "wrldpop_df = pd.read_excel('world-population.xlsm')"
   ]
  },
  {
   "cell_type": "code",
   "execution_count": 37,
   "id": "a18a602f",
   "metadata": {},
   "outputs": [
    {
     "data": {
      "text/html": [
       "<div>\n",
       "<style scoped>\n",
       "    .dataframe tbody tr th:only-of-type {\n",
       "        vertical-align: middle;\n",
       "    }\n",
       "\n",
       "    .dataframe tbody tr th {\n",
       "        vertical-align: top;\n",
       "    }\n",
       "\n",
       "    .dataframe thead th {\n",
       "        text-align: right;\n",
       "    }\n",
       "</style>\n",
       "<table border=\"1\" class=\"dataframe\">\n",
       "  <thead>\n",
       "    <tr style=\"text-align: right;\">\n",
       "      <th></th>\n",
       "      <th>Year</th>\n",
       "      <th>Population</th>\n",
       "    </tr>\n",
       "  </thead>\n",
       "  <tbody>\n",
       "    <tr>\n",
       "      <th>0</th>\n",
       "      <td>1960</td>\n",
       "      <td>3028654024</td>\n",
       "    </tr>\n",
       "    <tr>\n",
       "      <th>1</th>\n",
       "      <td>1961</td>\n",
       "      <td>3068356747</td>\n",
       "    </tr>\n",
       "    <tr>\n",
       "      <th>2</th>\n",
       "      <td>1962</td>\n",
       "      <td>3121963107</td>\n",
       "    </tr>\n",
       "    <tr>\n",
       "      <th>3</th>\n",
       "      <td>1963</td>\n",
       "      <td>3187471383</td>\n",
       "    </tr>\n",
       "    <tr>\n",
       "      <th>4</th>\n",
       "      <td>1964</td>\n",
       "      <td>3253112403</td>\n",
       "    </tr>\n",
       "  </tbody>\n",
       "</table>\n",
       "</div>"
      ],
      "text/plain": [
       "   Year  Population\n",
       "0  1960  3028654024\n",
       "1  1961  3068356747\n",
       "2  1962  3121963107\n",
       "3  1963  3187471383\n",
       "4  1964  3253112403"
      ]
     },
     "execution_count": 37,
     "metadata": {},
     "output_type": "execute_result"
    }
   ],
   "source": [
    "wrldpop_df.head()"
   ]
  },
  {
   "cell_type": "code",
   "execution_count": 36,
   "id": "c048ad72",
   "metadata": {},
   "outputs": [
    {
     "data": {
      "image/png": "[encoded data removed]",
      "text/plain": [
       "<Figure size 432x288 with 1 Axes>"
      ]
     },
     "metadata": {
      "needs_background": "light"
     },
     "output_type": "display_data"
    }
   ],
   "source": [
    "# 3.a Draw the line Plot. \n",
    "\n",
    "wrldpop_df.plot(kind='line', x='Year', y='Population', color='green')\n",
    "\n",
    "plt.show()"
   ]
  },
  {
   "cell_type": "code",
   "execution_count": 39,
   "id": "01589c71",
   "metadata": {},
   "outputs": [],
   "source": [
    "# 4.1 Activity 1"
   ]
  },
  {
   "cell_type": "code",
   "execution_count": 53,
   "id": "73a7b47d",
   "metadata": {},
   "outputs": [
    {
     "name": "stdout",
     "output_type": "stream",
     "text": [
      "Diff in length 1 : 72\n",
      "Diff in length 2 : 64\n",
      "Diff in length 3 : 71\n",
      "Diff in length 4 : 71\n",
      "mean of three difference in length is:  69.5\n"
     ]
    }
   ],
   "source": [
    "# Create a list of 100 random numbers\n",
    "list_a = [random.randint(0, 100) for i in range(0, 100)]\n",
    "\n",
    "# Create a new list from this random list, with numbers that are divisible by 3\n",
    "list_b = [x for x in list_a if x%3 == 0]\n",
    "\n",
    "# Calculate length of these two lists and store the difference.\n",
    "len_diff = len(list_a) - len(list_b)\n",
    "\n",
    "# Using a loop, perform steps 2 & 3 and find the difference variable four times\n",
    "l = 0\n",
    "len_diff_sum = 0\n",
    "while l < 4:\n",
    "    list_a = [random.randint(0, 100) for i in range(0, 100)]\n",
    "    list_b = [x for x in list_a if x%3 == 0]\n",
    "    len_diff = len(list_a) - len(list_b)\n",
    "    print('Diff in length', l+1, ':', len_diff)\n",
    "    len_diff_sum = len_diff_sum + len_diff\n",
    "    l += 1\n",
    "\n",
    "# Find the arithmetic mean of these three difference values.\n",
    "mean = len_diff_sum/4\n",
    "print('mean of three difference in length is: ', mean)"
   ]
  },
  {
   "cell_type": "code",
   "execution_count": 60,
   "id": "33fa2853",
   "metadata": {},
   "outputs": [],
   "source": [
    "# 4.2 Activity 2\n",
    "\n",
    "# Get multiline text and save it in a Python variable\n",
    "\n",
    "multiln_text = \"\"\"It is a truth universally acknowledged, that a single man in possession of a good fortune, must be in want of a wife.\n",
    "\n",
    "However little known the feelings or views of such a man may be on his first entering a neighbourhood, this truth is so well fixed in the minds of the surrounding families, that he is considered the rightful property of some one or other of their daughters.\n",
    "\n",
    "\"My dear Mr. Bennet,\" said his lady to him one day, \"have you heard that Netherfield Park is let at last?\"\n",
    "\n",
    "Mr. Bennet replied that he had not.\n",
    "\n",
    "\"But it is,\" returned she; \"for Mrs. Long has just been here, and she told me all about it.\"\n",
    "\n",
    "Mr. Bennet made no answer.\n",
    "\n",
    "\"Do you not want to know who has taken it?\" cried his wife impatiently.\n",
    "\n",
    "\"You want to tell me, and I have no objection to hearing it.\"\n",
    "\n",
    "This was invitation enough.\n",
    "\n",
    "\"Why, my dear, you must know, Mrs. Long says that Netherfield is taken by a young man of large fortune from the north of England; that he came down on Monday in a chaise and four to see the place, and was so much delighted with it, that he agreed with Mr. Morris immediately; that he is to take possession before Michaelmas, and some of his servants are to be in the house by the end of next week.\"\n",
    "\n",
    "\"What is his name?\"\n",
    "\n",
    "\"Bingley.\"\n",
    "\n",
    "\"Is he married or single?\"\n",
    "\n",
    "\"Oh! Single, my dear, to be sure! A single man of large fortune; four or five thousand a year. What a fine thing for our girls!\"\n",
    "\n",
    "\"How so? How can it affect them?\"\n",
    "\n",
    "\"My dear Mr. Bennet,\" replied his wife, \"how can you be so tiresome! You must know that I am thinking of his marrying one of them.\"\n",
    "\n",
    "\"Is that his design in settling here?\"\n",
    "\n",
    "\"Design! Nonsense, how can you talk so! But it is very likely that he may fall in love with one of them, and therefore you must visit him as soon as he comes.\"\n",
    "\n",
    "\"I see no occasion for that. You and the girls may go, or you may send them by themselves, which perhaps will be still better, for as you are as handsome as any of them, Mr. Bingley may like you the best of the party.\"\n",
    "\n",
    "\"My dear, you flatter me. I certainly have had my share of beauty, but I do not pretend to be anything extraordinary now. When a woman has five grown-up daughters, she ought to give over thinking of her own beauty.\"\n",
    "\n",
    "\"In such cases, a woman has not often much beauty to think of.\"\n",
    "\n",
    "\"But, my dear, you must indeed go and see Mr. Bingley when he comes into the neighbourhood.\"\n",
    "\n",
    "\"It is more than I engage for, I assure you.\"\n",
    "\n",
    "\"But consider your daughters. Only think what an establishment it would be for one of them. Sir William and Lady Lucas are determined to go, merely on that account, for in general, you know, they visit no newcomers. Indeed you must go, for it will be impossible for us to visit him if you do not.\"\n",
    "\n",
    "\"You are over-scrupulous, surely. I dare say Mr. Bingley will be very glad to see you; and I will send a few lines by you to assure him of my hearty consent to his marrying whichever he chooses of the girls; though I must throw in a good word for my little Lizzy.\"\n",
    "\n",
    "\"I desire you will do no such thing. Lizzy is not a bit better than the others; and I am sure she is not half so handsome as Jane, nor half so good-humoured as Lydia. But you are always giving her the preference.\"\n",
    "\n",
    "\"They have none of them much to recommend them,\" replied he; \"they are all silly and ignorant like other girls; but Lizzy has something more of quickness than her sisters.\"\n",
    "\n",
    "\"Mr. Bennet, how can you abuse your own children in such a way? You take delight in vexing me. You have no compassion for my poor nerves.\"\n",
    "\n",
    "\"You mistake me, my dear. I have a high respect for your nerves. They are my old friends. I have heard you mention them with consideration these last twenty years at least.\"\n",
    "\n",
    "\"Ah, you do not know what I suffer.\"\n",
    "\n",
    "\"But I hope you will get over it, and live to see many young men of four thousand a year come into the neighbourhood.\"\n",
    "\n",
    "\"It will be no use to us, if twenty such should come, since you will not visit them.\"\n",
    "\n",
    "\"Depend upon it, my dear, that when there are twenty, I will visit them all.\"\n",
    "\n",
    "Mr. Bennet was so odd a mixture of quick parts, sarcastic humour, reserve, and caprice, that the experience of three-and-twenty years had been insufficient to make his wife understand his character. Her mind was less difficult to develop. She was a woman of mean understanding, little information, and uncertain temper. When she was discontented, she fancied herself nervous. The business of her life was to get her daughters married; its solace was visiting and news. \"\"\""
   ]
  },
  {
   "cell_type": "code",
   "execution_count": 66,
   "id": "250dc45c",
   "metadata": {},
   "outputs": [
    {
     "name": "stdout",
     "output_type": "stream",
     "text": [
      "It is a truth universally acknowledged, that a single man in possession of a good fortune, must be in want of a wife.However little known the feelings or views of such a man may be on his first entering a neighbourhood, this truth is so well fixed in the minds of the surrounding families, that he is considered the rightful property of some one or other of their daughters.\"My dear Mr. Bennet,\" said his lady to him one day, \"have you heard that Netherfield Park is let at last?\"Mr. Bennet replied that he had not.\"But it is,\" returned she; \"for Mrs. Long has just been here, and she told me all about it.\"Mr. Bennet made no answer.\"Do you not want to know who has taken it?\" cried his wife impatiently.\"You want to tell me, and I have no objection to hearing it.\"This was invitation enough.\"Why, my dear, you must know, Mrs. Long says that Netherfield is taken by a young man of large fortune from the north of England; that he came down on Monday in a chaise and four to see the place, and was so much delighted with it, that he agreed with Mr. Morris immediately; that he is to take possession before Michaelmas, and some of his servants are to be in the house by the end of next week.\"\"What is his name?\"\"Bingley.\"\"Is he married or single?\"\"Oh! Single, my dear, to be sure! A single man of large fortune; four or five thousand a year. What a fine thing for our girls!\"\"How so? How can it affect them?\"\"My dear Mr. Bennet,\" replied his wife, \"how can you be so tiresome! You must know that I am thinking of his marrying one of them.\"\"Is that his design in settling here?\"\"Design! Nonsense, how can you talk so! But it is very likely that he may fall in love with one of them, and therefore you must visit him as soon as he comes.\"\"I see no occasion for that. You and the girls may go, or you may send them by themselves, which perhaps will be still better, for as you are as handsome as any of them, Mr. Bingley may like you the best of the party.\"\"My dear, you flatter me. I certainly have had my share of beauty, but I do not pretend to be anything extraordinary now. When a woman has five grown-up daughters, she ought to give over thinking of her own beauty.\"\"In such cases, a woman has not often much beauty to think of.\"\"But, my dear, you must indeed go and see Mr. Bingley when he comes into the neighbourhood.\"\"It is more than I engage for, I assure you.\"\"But consider your daughters. Only think what an establishment it would be for one of them. Sir William and Lady Lucas are determined to go, merely on that account, for in general, you know, they visit no newcomers. Indeed you must go, for it will be impossible for us to visit him if you do not.\"\"You are over-scrupulous, surely. I dare say Mr. Bingley will be very glad to see you; and I will send a few lines by you to assure him of my hearty consent to his marrying whichever he chooses of the girls; though I must throw in a good word for my little Lizzy.\"\"I desire you will do no such thing. Lizzy is not a bit better than the others; and I am sure she is not half so handsome as Jane, nor half so good-humoured as Lydia. But you are always giving her the preference.\"\"They have none of them much to recommend them,\" replied he; \"they are all silly and ignorant like other girls; but Lizzy has something more of quickness than her sisters.\"\"Mr. Bennet, how can you abuse your own children in such a way? You take delight in vexing me. You have no compassion for my poor nerves.\"\"You mistake me, my dear. I have a high respect for your nerves. They are my old friends. I have heard you mention them with consideration these last twenty years at least.\"\"Ah, you do not know what I suffer.\"\"But I hope you will get over it, and live to see many young men of four thousand a year come into the neighbourhood.\"\"It will be no use to us, if twenty such should come, since you will not visit them.\"\"Depend upon it, my dear, that when there are twenty, I will visit them all.\"Mr. Bennet was so odd a mixture of quick parts, sarcastic humour, reserve, and caprice, that the experience of three-and-twenty years had been insufficient to make his wife understand his character. Her mind was less difficult to develop. She was a woman of mean understanding, little information, and uncertain temper. When she was discontented, she fancied herself nervous. The business of her life was to get her daughters married; its solace was visiting and news. \n"
     ]
    }
   ],
   "source": [
    "# Data clensing and adding new lines in it using  methods\n",
    "\n",
    "multiln_text = multiln_text.replace('\\n', \"\")\n",
    "print(multiln_text)"
   ]
  },
  {
   "cell_type": "code",
   "execution_count": 67,
   "id": "aef377f8",
   "metadata": {},
   "outputs": [
    {
     "data": {
      "text/plain": [
       "4409"
      ]
     },
     "execution_count": 67,
     "metadata": {},
     "output_type": "execute_result"
    }
   ],
   "source": [
    "\n",
    "len(multiln_text) "
   ]
  },
  {
   "cell_type": "code",
   "execution_count": 68,
   "id": "0ad4a504",
   "metadata": {},
   "outputs": [
    {
     "data": {
      "text/plain": [
       "str"
      ]
     },
     "execution_count": 68,
     "metadata": {},
     "output_type": "execute_result"
    }
   ],
   "source": [
    "type(multiln_text)"
   ]
  },
  {
   "cell_type": "code",
   "execution_count": 63,
   "id": "f2f82120",
   "metadata": {},
   "outputs": [
    {
     "name": "stdout",
     "output_type": "stream",
     "text": [
      "Total words in the text:  4409\n"
     ]
    }
   ],
   "source": [
    "# Get the unique or distinct  words and its occurrences \n",
    "\n",
    "ls_multiln_text = multiln_text.split()\n",
    "\n",
    "print('Total words in the text: ', len(multiln_text))\n"
   ]
  },
  {
   "cell_type": "code",
   "execution_count": 65,
   "id": "933817eb",
   "metadata": {},
   "outputs": [
    {
     "name": "stdout",
     "output_type": "stream",
     "text": [
      "Total Unique Words:  389\n"
     ]
    }
   ],
   "source": [
    "# Get all Unique words\n",
    "\n",
    "disst_multiln_text = list(set(ls_multiln_text))\n",
    "\n",
    "print('Total Unique Words: ', len(disst_multiln_text))\n"
   ]
  },
  {
   "cell_type": "code",
   "execution_count": 71,
   "id": "165e4712",
   "metadata": {},
   "outputs": [
    {
     "name": "stdout",
     "output_type": "stream",
     "text": [
      "{'It': 1, 'is': 11, 'a': 20, 'truth': 2, 'universally': 1, 'acknowledged,': 1, 'that': 14, 'single': 2, 'man': 4, 'in': 11, 'possession': 2, 'of': 28, 'good': 2, 'fortune,': 1, 'must': 7, 'be': 11, 'want': 3, 'wife.However': 1, 'little': 3, 'known': 1, 'the': 17, 'feelings': 1, 'or': 5, 'views': 1, 'such': 5, 'may': 5, 'on': 3, 'his': 11, 'first': 1, 'entering': 1, 'neighbourhood,': 1, 'this': 1, 'so': 6, 'well': 1, 'fixed': 1, 'minds': 1, 'surrounding': 1, 'families,': 1, 'he': 10, 'considered': 1, 'rightful': 1, 'property': 1, 'some': 2, 'one': 5, 'other': 2, 'their': 1, 'daughters.\"My': 1, 'dear': 2, 'Mr.': 6, 'Bennet,\"': 2, 'said': 1, 'lady': 1, 'to': 22, 'him': 4, 'day,': 1, '\"have': 1, 'you': 22, 'heard': 2, 'Netherfield': 2, 'Park': 1, 'let': 1, 'at': 2, 'last?\"Mr.': 1, 'Bennet': 3, 'replied': 3, 'had': 3, 'not.\"But': 1, 'it': 5, 'is,\"': 1, 'returned': 1, 'she;': 1, '\"for': 1, 'Mrs.': 2, 'Long': 2, 'has': 5, 'just': 1, 'been': 2, 'here,': 1, 'and': 16, 'she': 5, 'told': 1, 'me': 1, 'all': 2, 'about': 1, 'it.\"Mr.': 1, 'made': 1, 'no': 7, 'answer.\"Do': 1, 'not': 7, 'know': 3, 'who': 1, 'taken': 2, 'it?\"': 1, 'cried': 1, 'wife': 2, 'impatiently.\"You': 1, 'tell': 1, 'me,': 2, 'I': 15, 'have': 6, 'objection': 1, 'hearing': 1, 'it.\"This': 1, 'was': 8, 'invitation': 1, 'enough.\"Why,': 1, 'my': 10, 'dear,': 5, 'know,': 2, 'says': 1, 'by': 4, 'young': 2, 'large': 2, 'fortune': 1, 'from': 1, 'north': 1, 'England;': 1, 'came': 1, 'down': 1, 'Monday': 1, 'chaise': 1, 'four': 3, 'see': 5, 'place,': 1, 'much': 3, 'delighted': 1, 'with': 4, 'it,': 3, 'agreed': 1, 'Morris': 1, 'immediately;': 1, 'take': 2, 'before': 1, 'Michaelmas,': 1, 'servants': 1, 'are': 8, 'house': 1, 'end': 1, 'next': 1, 'week.\"\"What': 1, 'name?\"\"Bingley.\"\"Is': 1, 'married': 1, 'single?\"\"Oh!': 1, 'Single,': 1, 'sure!': 1, 'A': 1, 'fortune;': 1, 'five': 2, 'thousand': 2, 'year.': 1, 'What': 1, 'fine': 1, 'thing': 1, 'for': 10, 'our': 1, 'girls!\"\"How': 1, 'so?': 1, 'How': 1, 'can': 4, 'affect': 1, 'them?\"\"My': 1, 'wife,': 1, '\"how': 1, 'tiresome!': 1, 'You': 4, 'am': 2, 'thinking': 2, 'marrying': 2, 'them.\"\"Is': 1, 'design': 1, 'settling': 1, 'here?\"\"Design!': 1, 'Nonsense,': 1, 'how': 2, 'talk': 1, 'so!': 1, 'But': 2, 'very': 2, 'likely': 1, 'fall': 1, 'love': 1, 'them,': 2, 'therefore': 1, 'visit': 5, 'as': 7, 'soon': 1, 'comes.\"\"I': 1, 'occasion': 1, 'that.': 1, 'girls': 1, 'go,': 3, 'send': 2, 'them': 4, 'themselves,': 1, 'which': 1, 'perhaps': 1, 'will': 9, 'still': 1, 'better,': 1, 'handsome': 2, 'any': 1, 'Bingley': 3, 'like': 2, 'best': 1, 'party.\"\"My': 1, 'flatter': 1, 'me.': 2, 'certainly': 1, 'share': 1, 'beauty,': 1, 'but': 2, 'do': 4, 'pretend': 1, 'anything': 1, 'extraordinary': 1, 'now.': 1, 'When': 2, 'woman': 3, 'grown-up': 1, 'daughters,': 1, 'ought': 1, 'give': 1, 'over': 2, 'her': 5, 'own': 2, 'beauty.\"\"In': 1, 'cases,': 1, 'often': 1, 'beauty': 1, 'think': 2, 'of.\"\"But,': 1, 'indeed': 1, 'go': 1, 'when': 2, 'comes': 1, 'into': 2, 'neighbourhood.\"\"It': 2, 'more': 2, 'than': 3, 'engage': 1, 'for,': 1, 'assure': 2, 'you.\"\"But': 1, 'consider': 1, 'your': 3, 'daughters.': 1, 'Only': 1, 'what': 2, 'an': 1, 'establishment': 1, 'would': 1, 'them.': 1, 'Sir': 1, 'William': 1, 'Lady': 1, 'Lucas': 1, 'determined': 1, 'merely': 1, 'account,': 1, 'general,': 1, 'they': 1, 'newcomers.': 1, 'Indeed': 1, 'impossible': 1, 'us': 1, 'if': 2, 'not.\"\"You': 1, 'over-scrupulous,': 1, 'surely.': 1, 'dare': 1, 'say': 1, 'glad': 1, 'you;': 1, 'few': 1, 'lines': 1, 'hearty': 1, 'consent': 1, 'whichever': 1, 'chooses': 1, 'girls;': 2, 'though': 1, 'throw': 1, 'word': 1, 'Lizzy.\"\"I': 1, 'desire': 1, 'thing.': 1, 'Lizzy': 2, 'bit': 1, 'better': 1, 'others;': 1, 'sure': 1, 'half': 2, 'Jane,': 1, 'nor': 1, 'good-humoured': 1, 'Lydia.': 1, 'always': 1, 'giving': 1, 'preference.\"\"They': 1, 'none': 1, 'recommend': 1, 'them,\"': 1, 'he;': 1, '\"they': 1, 'silly': 1, 'ignorant': 1, 'something': 1, 'quickness': 1, 'sisters.\"\"Mr.': 1, 'Bennet,': 1, 'abuse': 1, 'children': 1, 'way?': 1, 'delight': 1, 'vexing': 1, 'compassion': 1, 'poor': 1, 'nerves.\"\"You': 1, 'mistake': 1, 'dear.': 1, 'high': 1, 'respect': 1, 'nerves.': 1, 'They': 1, 'old': 1, 'friends.': 1, 'mention': 1, 'consideration': 1, 'these': 1, 'last': 1, 'twenty': 2, 'years': 2, 'least.\"\"Ah,': 1, 'suffer.\"\"But': 1, 'hope': 1, 'get': 2, 'live': 1, 'many': 1, 'men': 1, 'year': 1, 'come': 1, 'use': 1, 'us,': 1, 'should': 1, 'come,': 1, 'since': 1, 'them.\"\"Depend': 1, 'upon': 1, 'there': 1, 'twenty,': 1, 'all.\"Mr.': 1, 'odd': 1, 'mixture': 1, 'quick': 1, 'parts,': 1, 'sarcastic': 1, 'humour,': 1, 'reserve,': 1, 'caprice,': 1, 'experience': 1, 'three-and-twenty': 1, 'insufficient': 1, 'make': 1, 'understand': 1, 'character.': 1, 'Her': 1, 'mind': 1, 'less': 1, 'difficult': 1, 'develop.': 1, 'She': 1, 'mean': 1, 'understanding,': 1, 'information,': 1, 'uncertain': 1, 'temper.': 1, 'discontented,': 1, 'fancied': 1, 'herself': 1, 'nervous.': 1, 'The': 1, 'business': 1, 'life': 1, 'daughters': 1, 'married;': 1, 'its': 1, 'solace': 1, 'visiting': 1, 'news.': 1}\n"
     ]
    }
   ],
   "source": [
    "# Get the number of occurrences of each word\n",
    "count_reoccur = dict()\n",
    "for word in ls_multiln_text:\n",
    "    if word in count_reoccur:\n",
    "        count_reoccur[word] += 1\n",
    "    else:\n",
    "        count_reoccur[word] = 1\n",
    "        \n",
    "print(count_reoccur)\n",
    "\n",
    "\n",
    "\n"
   ]
  },
  {
   "cell_type": "code",
   "execution_count": 72,
   "id": "a0df33e0",
   "metadata": {},
   "outputs": [
    {
     "name": "stdout",
     "output_type": "stream",
     "text": [
      "{'it': 6, 'is': 11, 'a': 21, 'truth': 2, 'universally': 1, 'acknowledged,': 1, 'that': 14, 'single': 2, 'man': 4, 'in': 11, 'possession': 2, 'of': 28, 'good': 2, 'fortune,': 1, 'must': 7, 'be': 11, 'want': 3, 'wife.however': 1, 'little': 3, 'known': 1, 'the': 18, 'feelings': 1, 'or': 5, 'views': 1, 'such': 5, 'may': 5, 'on': 3, 'his': 11, 'first': 1, 'entering': 1, 'neighbourhood,': 1, 'this': 1, 'so': 6, 'well': 1, 'fixed': 1, 'minds': 1, 'surrounding': 1, 'families,': 1, 'he': 10, 'considered': 1, 'rightful': 1, 'property': 1, 'some': 2, 'one': 5, 'other': 2, 'their': 1, 'daughters.\"my': 1, 'dear': 2, 'mr.': 6, 'bennet,\"': 2, 'said': 1, 'lady': 2, 'to': 22, 'him': 4, 'day,': 1, '\"have': 1, 'you': 26, 'heard': 2, 'netherfield': 2, 'park': 1, 'let': 1, 'at': 2, 'last?\"mr.': 1, 'bennet': 3, 'replied': 3, 'had': 3, 'not.\"but': 1, 'is,\"': 1, 'returned': 1, 'she;': 1, '\"for': 1, 'mrs.': 2, 'long': 2, 'has': 5, 'just': 1, 'been': 2, 'here,': 1, 'and': 16, 'she': 6, 'told': 1, 'me': 1, 'all': 2, 'about': 1, 'it.\"mr.': 1, 'made': 1, 'no': 7, 'answer.\"do': 1, 'not': 7, 'know': 3, 'who': 1, 'taken': 2, 'it?\"': 1, 'cried': 1, 'wife': 2, 'impatiently.\"you': 1, 'tell': 1, 'me,': 2, 'i': 15, 'have': 6, 'objection': 1, 'hearing': 1, 'it.\"this': 1, 'was': 8, 'invitation': 1, 'enough.\"why,': 1, 'my': 10, 'dear,': 5, 'know,': 2, 'says': 1, 'by': 4, 'young': 2, 'large': 2, 'fortune': 1, 'from': 1, 'north': 1, 'england;': 1, 'came': 1, 'down': 1, 'monday': 1, 'chaise': 1, 'four': 3, 'see': 5, 'place,': 1, 'much': 3, 'delighted': 1, 'with': 4, 'it,': 3, 'agreed': 1, 'morris': 1, 'immediately;': 1, 'take': 2, 'before': 1, 'michaelmas,': 1, 'servants': 1, 'are': 8, 'house': 1, 'end': 1, 'next': 1, 'week.\"\"what': 1, 'name?\"\"bingley.\"\"is': 1, 'married': 1, 'single?\"\"oh!': 1, 'single,': 1, 'sure!': 1, 'fortune;': 1, 'five': 2, 'thousand': 2, 'year.': 1, 'what': 3, 'fine': 1, 'thing': 1, 'for': 10, 'our': 1, 'girls!\"\"how': 1, 'so?': 1, 'how': 3, 'can': 4, 'affect': 1, 'them?\"\"my': 1, 'wife,': 1, '\"how': 1, 'tiresome!': 1, 'am': 2, 'thinking': 2, 'marrying': 2, 'them.\"\"is': 1, 'design': 1, 'settling': 1, 'here?\"\"design!': 1, 'nonsense,': 1, 'talk': 1, 'so!': 1, 'but': 4, 'very': 2, 'likely': 1, 'fall': 1, 'love': 1, 'them,': 2, 'therefore': 1, 'visit': 5, 'as': 7, 'soon': 1, 'comes.\"\"i': 1, 'occasion': 1, 'that.': 1, 'girls': 1, 'go,': 3, 'send': 2, 'them': 4, 'themselves,': 1, 'which': 1, 'perhaps': 1, 'will': 9, 'still': 1, 'better,': 1, 'handsome': 2, 'any': 1, 'bingley': 3, 'like': 2, 'best': 1, 'party.\"\"my': 1, 'flatter': 1, 'me.': 2, 'certainly': 1, 'share': 1, 'beauty,': 1, 'do': 4, 'pretend': 1, 'anything': 1, 'extraordinary': 1, 'now.': 1, 'when': 4, 'woman': 3, 'grown-up': 1, 'daughters,': 1, 'ought': 1, 'give': 1, 'over': 2, 'her': 6, 'own': 2, 'beauty.\"\"in': 1, 'cases,': 1, 'often': 1, 'beauty': 1, 'think': 2, 'of.\"\"but,': 1, 'indeed': 2, 'go': 1, 'comes': 1, 'into': 2, 'neighbourhood.\"\"it': 2, 'more': 2, 'than': 3, 'engage': 1, 'for,': 1, 'assure': 2, 'you.\"\"but': 1, 'consider': 1, 'your': 3, 'daughters.': 1, 'only': 1, 'an': 1, 'establishment': 1, 'would': 1, 'them.': 1, 'sir': 1, 'william': 1, 'lucas': 1, 'determined': 1, 'merely': 1, 'account,': 1, 'general,': 1, 'they': 2, 'newcomers.': 1, 'impossible': 1, 'us': 1, 'if': 2, 'not.\"\"you': 1, 'over-scrupulous,': 1, 'surely.': 1, 'dare': 1, 'say': 1, 'glad': 1, 'you;': 1, 'few': 1, 'lines': 1, 'hearty': 1, 'consent': 1, 'whichever': 1, 'chooses': 1, 'girls;': 2, 'though': 1, 'throw': 1, 'word': 1, 'lizzy.\"\"i': 1, 'desire': 1, 'thing.': 1, 'lizzy': 2, 'bit': 1, 'better': 1, 'others;': 1, 'sure': 1, 'half': 2, 'jane,': 1, 'nor': 1, 'good-humoured': 1, 'lydia.': 1, 'always': 1, 'giving': 1, 'preference.\"\"they': 1, 'none': 1, 'recommend': 1, 'them,\"': 1, 'he;': 1, '\"they': 1, 'silly': 1, 'ignorant': 1, 'something': 1, 'quickness': 1, 'sisters.\"\"mr.': 1, 'bennet,': 1, 'abuse': 1, 'children': 1, 'way?': 1, 'delight': 1, 'vexing': 1, 'compassion': 1, 'poor': 1, 'nerves.\"\"you': 1, 'mistake': 1, 'dear.': 1, 'high': 1, 'respect': 1, 'nerves.': 1, 'old': 1, 'friends.': 1, 'mention': 1, 'consideration': 1, 'these': 1, 'last': 1, 'twenty': 2, 'years': 2, 'least.\"\"ah,': 1, 'suffer.\"\"but': 1, 'hope': 1, 'get': 2, 'live': 1, 'many': 1, 'men': 1, 'year': 1, 'come': 1, 'use': 1, 'us,': 1, 'should': 1, 'come,': 1, 'since': 1, 'them.\"\"depend': 1, 'upon': 1, 'there': 1, 'twenty,': 1, 'all.\"mr.': 1, 'odd': 1, 'mixture': 1, 'quick': 1, 'parts,': 1, 'sarcastic': 1, 'humour,': 1, 'reserve,': 1, 'caprice,': 1, 'experience': 1, 'three-and-twenty': 1, 'insufficient': 1, 'make': 1, 'understand': 1, 'character.': 1, 'mind': 1, 'less': 1, 'difficult': 1, 'develop.': 1, 'mean': 1, 'understanding,': 1, 'information,': 1, 'uncertain': 1, 'temper.': 1, 'discontented,': 1, 'fancied': 1, 'herself': 1, 'nervous.': 1, 'business': 1, 'life': 1, 'daughters': 1, 'married;': 1, 'its': 1, 'solace': 1, 'visiting': 1, 'news.': 1}\n"
     ]
    }
   ],
   "source": [
    "# Get number of occurrences of each word, No case sensitivity all lowercase.\n",
    "\n",
    "count_casesens = dict()\n",
    "ls_multiln_text_lwcase = multiln_text.lower().split()   # Convert all words to lower case\n",
    "\n",
    "for word in ls_multiln_text_lwcase:\n",
    "    if word in count_casesens:\n",
    "        count_casesens[word] += 1\n",
    "    else:\n",
    "        count_casesens[word] = 1\n",
    "        \n",
    "print(count_casesens)"
   ]
  },
  {
   "cell_type": "code",
   "execution_count": 73,
   "id": "ff9cd104",
   "metadata": {},
   "outputs": [],
   "source": [
    "#4.c) Activity 3: Permutation, Iterator, Lambda, List\n",
    "\n",
    "# Lookup the definition of permutations and dropwhile from itertools\n",
    "permutations?\n",
    "dropwhile?"
   ]
  },
  {
   "cell_type": "code",
   "execution_count": 77,
   "id": "f3607248",
   "metadata": {},
   "outputs": [],
   "source": [
    "#import itertools libraries \n",
    "\n",
    "from itertools import permutations, dropwhile, zip_longest\n"
   ]
  },
  {
   "cell_type": "code",
   "execution_count": 76,
   "id": "70bfbda3",
   "metadata": {},
   "outputs": [
    {
     "data": {
      "text/plain": [
       "<itertools.permutations at 0x1619a688e50>"
      ]
     },
     "execution_count": 76,
     "metadata": {},
     "output_type": "execute_result"
    }
   ],
   "source": [
    "# Write an expression to generate all  possible 3-digit numbers using 0, 1, and 2. \n",
    "permutations(range(3))"
   ]
  },
  {
   "cell_type": "code",
   "execution_count": 78,
   "id": "7f21eeb0",
   "metadata": {},
   "outputs": [
    {
     "name": "stdout",
     "output_type": "stream",
     "text": [
      "(0, 1, 2)\n",
      "(0, 2, 1)\n",
      "(1, 0, 2)\n",
      "(1, 2, 0)\n",
      "(2, 0, 1)\n",
      "(2, 1, 0)\n"
     ]
    }
   ],
   "source": [
    "# Loop over the iterator expression you generated before. Use print to print each element returned by the iterator. \n",
    "# Use assert and isinstance to make sure that the elements are tuples. \n",
    "\n",
    "for tuple_number in permutations(range(3)):\n",
    "    print(tuple_number)\n",
    "    assert isinstance(tuple_number, tuple)  # ensure tuple_num is a type tuple"
   ]
  },
  {
   "cell_type": "code",
   "execution_count": 79,
   "id": "049c40f6",
   "metadata": {},
   "outputs": [
    {
     "data": {
      "text/plain": [
       "tuple"
      ]
     },
     "execution_count": 79,
     "metadata": {},
     "output_type": "execute_result"
    }
   ],
   "source": [
    "type(tuple_number) # ensure tuple_num is a type tuple - Verified"
   ]
  },
  {
   "cell_type": "code",
   "execution_count": 87,
   "id": "3fc1d365",
   "metadata": {},
   "outputs": [
    {
     "name": "stdout",
     "output_type": "stream",
     "text": [
      "[1, 2]\n",
      "[2, 1]\n",
      "[1, 0, 2]\n",
      "[1, 2, 0]\n",
      "[2, 0, 1]\n",
      "[2, 1, 0]\n"
     ]
    }
   ],
   "source": [
    "# Use a single line of code involving dropwhile and lambda expressions to convert all the tuples to lists while dropping\n",
    "# any leading zeros(for example, (0,1,2) becomes [1,2]).\n",
    "\n",
    "for tuple_number in permutations(range(3)):\n",
    "    print(list(dropwhile(lambda x: x <= 0, tuple_number)))"
   ]
  },
  {
   "cell_type": "code",
   "execution_count": 86,
   "id": "0f907b31",
   "metadata": {},
   "outputs": [
    {
     "name": "stdout",
     "output_type": "stream",
     "text": [
      "<itertools.dropwhile object at 0x000001619A6A00C0>\n"
     ]
    }
   ],
   "source": [
    "# Type of dropwhile \n",
    "print((dropwhile(lambda x: x <= 0, tuple_number)))"
   ]
  },
  {
   "cell_type": "code",
   "execution_count": 88,
   "id": "5464e00f",
   "metadata": {},
   "outputs": [
    {
     "name": "stdout",
     "output_type": "stream",
     "text": [
      "12.0\n",
      "21.0\n",
      "102.0\n",
      "120.0\n",
      "201.0\n",
      "210.0\n"
     ]
    }
   ],
   "source": [
    "# Write a function that takes a list like before and returns the actual number contained in it. \n",
    "\n",
    "def conv_num(list_number):\n",
    "    num = 0\n",
    "    for i in range(0, len(list_number)):\n",
    "        num += (list_number.pop() * (math.pow(10, i)))       \n",
    "    print(num)\n",
    "    return\n",
    "\n",
    "for tuple_number in permutations(range(3)):\n",
    "    list_number = list(dropwhile(lambda x: x <= 0, tuple_number))\n",
    "    conv_num(list_number)"
   ]
  },
  {
   "cell_type": "code",
   "execution_count": 93,
   "id": "fd1e88bf",
   "metadata": {},
   "outputs": [],
   "source": [
    "#4.d) Activity- Design your own CSV Parser\n",
    "\n",
    "# Function to parse the header\n",
    "\n",
    "def create_dict(header, line):\n",
    "    zip_x = zip_longest(header, line, fillvalue=None)         # Zip header and line\n",
    "    dict_x = {key_val[0]: key_val[1] for key_val in zip_x}    # Add them to dictionary\n",
    "    \n",
    "    return dict_x\n"
   ]
  },
  {
   "cell_type": "code",
   "execution_count": 94,
   "id": "1188889e",
   "metadata": {},
   "outputs": [
    {
     "name": "stdout",
     "output_type": "stream",
     "text": [
      "List of Column names in the file:  ['Region', 'Country', 'Item Type', 'Sales Channel', 'Order Priority', 'Order Date', 'Order ID', 'Ship Date', 'Units Sold', 'Unit Price', 'Unit Cost', 'Total Revenue', 'Total Cost', 'Total Profit']\n",
      "\n",
      " {'Region': 'Central America and the Caribbean', 'Country': 'Antigua and Barbuda ', 'Item Type': 'Baby Food', 'Sales Channel': 'Online', 'Order Priority': 'M', 'Order Date': '12/20/2013', 'Order ID': '957081544', 'Ship Date': '1/11/2014', 'Units Sold': '552', 'Unit Price': '255.28', 'Unit Cost': '159.42', 'Total Revenue': '140914.56', 'Total Cost': '87999.84', 'Total Profit': '52914.72'}\n",
      "\n",
      " {'Region': 'Central America and the Caribbean', 'Country': 'Panama', 'Item Type': 'Snacks', 'Sales Channel': 'Offline', 'Order Priority': 'C', 'Order Date': '7/5/2010', 'Order ID': '301644504', 'Ship Date': '7/26/2010', 'Units Sold': '2167', 'Unit Price': '152.58', 'Unit Cost': '97.44', 'Total Revenue': '330640.86', 'Total Cost': '211152.48', 'Total Profit': '119488.38'}\n",
      "\n",
      " {'Region': 'Europe', 'Country': 'Czech Republic', 'Item Type': 'Beverages', 'Sales Channel': 'Offline', 'Order Priority': 'C', 'Order Date': '9/12/2011', 'Order ID': '478051030', 'Ship Date': '9/29/2011', 'Units Sold': '4778', 'Unit Price': '47.45', 'Unit Cost': '31.79', 'Total Revenue': '226716.10', 'Total Cost': '151892.62', 'Total Profit': '74823.48'}\n",
      "\n",
      " {'Region': 'Asia', 'Country': 'North Korea', 'Item Type': 'Cereal', 'Sales Channel': 'Offline', 'Order Priority': 'L', 'Order Date': '5/13/2010', 'Order ID': '892599952', 'Ship Date': '6/15/2010', 'Units Sold': '9016', 'Unit Price': '205.70', 'Unit Cost': '117.11', 'Total Revenue': '1854591.20', 'Total Cost': '1055863.76', 'Total Profit': '798727.44'}\n",
      "\n",
      " {'Region': 'Asia', 'Country': 'Sri Lanka', 'Item Type': 'Snacks', 'Sales Channel': 'Offline', 'Order Priority': 'C', 'Order Date': '7/20/2015', 'Order ID': '571902596', 'Ship Date': '7/27/2015', 'Units Sold': '7542', 'Unit Price': '152.58', 'Unit Cost': '97.44', 'Total Revenue': '1150758.36', 'Total Cost': '734892.48', 'Total Profit': '415865.88'}\n",
      "\n",
      " {'Region': 'Middle East and North Africa', 'Country': 'Morocco', 'Item Type': 'Personal Care', 'Sales Channel': 'Offline', 'Order Priority': 'L', 'Order Date': '11/8/2010', 'Order ID': '412882792', 'Ship Date': '11/22/2010', 'Units Sold': '48', 'Unit Price': '81.73', 'Unit Cost': '56.67', 'Total Revenue': '3923.04', 'Total Cost': '2720.16', 'Total Profit': '1202.88'}\n",
      "\n",
      " {'Region': 'Australia and Oceania', 'Country': 'Federated States of Micronesia', 'Item Type': 'Clothes', 'Sales Channel': 'Offline', 'Order Priority': 'H', 'Order Date': '3/28/2011', 'Order ID': '932776868', 'Ship Date': '5/10/2011', 'Units Sold': '8258', 'Unit Price': '109.28', 'Unit Cost': '35.84', 'Total Revenue': '902434.24', 'Total Cost': '295966.72', 'Total Profit': '606467.52'}\n",
      "\n",
      " {'Region': 'Europe', 'Country': 'Bosnia and Herzegovina', 'Item Type': 'Clothes', 'Sales Channel': 'Online', 'Order Priority': 'M', 'Order Date': '10/14/2013', 'Order ID': '919133651', 'Ship Date': '11/4/2013', 'Units Sold': '927', 'Unit Price': '109.28', 'Unit Cost': '35.84', 'Total Revenue': '101302.56', 'Total Cost': '33223.68', 'Total Profit': '68078.88'}\n",
      "\n",
      " {'Region': 'Middle East and North Africa', 'Country': 'Afghanistan', 'Item Type': 'Clothes', 'Sales Channel': 'Offline', 'Order Priority': 'M', 'Order Date': '8/27/2016', 'Order ID': '579814469', 'Ship Date': '10/5/2016', 'Units Sold': '8841', 'Unit Price': '109.28', 'Unit Cost': '35.84', 'Total Revenue': '966144.48', 'Total Cost': '316861.44', 'Total Profit': '649283.04'}\n",
      "\n",
      " {'Region': 'Sub-Saharan Africa', 'Country': 'Ethiopia', 'Item Type': 'Baby Food', 'Sales Channel': 'Online', 'Order Priority': 'M', 'Order Date': '4/13/2015', 'Order ID': '192993152', 'Ship Date': '5/7/2015', 'Units Sold': '9817', 'Unit Price': '255.28', 'Unit Cost': '159.42', 'Total Revenue': '2506083.76', 'Total Cost': '1565026.14', 'Total Profit': '941057.62'}\n",
      "\n",
      " {'Region': 'Middle East and North Africa', 'Country': 'Turkey', 'Item Type': 'Office Supplies', 'Sales Channel': 'Offline', 'Order Priority': 'C', 'Order Date': '9/25/2013', 'Order ID': '557156026', 'Ship Date': '10/15/2013', 'Units Sold': '3704', 'Unit Price': '651.21', 'Unit Cost': '524.96', 'Total Revenue': '2412081.84', 'Total Cost': '1944451.84', 'Total Profit': '467630.00'}\n",
      "\n",
      " {'Region': 'Middle East and North Africa', 'Country': 'Oman', 'Item Type': 'Cosmetics', 'Sales Channel': 'Online', 'Order Priority': 'M', 'Order Date': '5/12/2013', 'Order ID': '741101920', 'Ship Date': '5/17/2013', 'Units Sold': '7382', 'Unit Price': '437.20', 'Unit Cost': '263.33', 'Total Revenue': '3227410.40', 'Total Cost': '1943902.06', 'Total Profit': '1283508.34'}\n"
     ]
    }
   ],
   "source": [
    "# open sales_record.csv file from Github link provided by using r mode\n",
    "\n",
    "with open(\"sales_record.csv\", \"r\") as sales:\n",
    "    line_1 = sales.readline()                       # Read first line into line_1\n",
    "    header = line_1.replace(\"\\n\", \"\").split(\",\")    # Generate list of column name\n",
    "    print('List of Column names in the file: ', header) # Display column names\n",
    "    for i, line in enumerate(sales):                # read each line\n",
    "        line = line.replace(\"\\n\", \"\").split(\",\")\n",
    "        dict_x = create_dict(header, line)            # call function to generate dictionary\n",
    "        print('\\n', dict_x)                           # print disctionary\n",
    "        if i > 10:\n",
    "            break"
   ]
  },
  {
   "cell_type": "code",
   "execution_count": null,
   "id": "15c54cc7",
   "metadata": {},
   "outputs": [],
   "source": []
  }
 ],
 "metadata": {
  "kernelspec": {
   "display_name": "Python 3 (ipykernel)",
   "language": "python",
   "name": "python3"
  },
  "language_info": {
   "codemirror_mode": {
    "name": "ipython",
    "version": 3
   },
   "file_extension": ".py",
   "mimetype": "text/x-python",
   "name": "python",
   "nbconvert_exporter": "python",
   "pygments_lexer": "ipython3",
   "version": "3.9.7"
  }
 },
 "nbformat": 4,
 "nbformat_minor": 5
}
